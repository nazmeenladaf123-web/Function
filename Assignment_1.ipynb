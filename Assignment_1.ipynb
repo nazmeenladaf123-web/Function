{
  "nbformat": 4,
  "nbformat_minor": 0,
  "metadata": {
    "colab": {
      "provenance": []
    },
    "kernelspec": {
      "name": "python3",
      "display_name": "Python 3"
    },
    "language_info": {
      "name": "python"
    }
  },
  "cells": [
    {
      "cell_type": "markdown",
      "source": [
        "phyton basics questions"
      ],
      "metadata": {
        "id": "NRJurFP_yuPN"
      }
    },
    {
      "cell_type": "markdown",
      "source": [],
      "metadata": {
        "id": "39iZoFgzzhyE"
      }
    },
    {
      "cell_type": "markdown",
      "source": [
        "1.what is phyton and why it is popular ?\n",
        "\n",
        "phyton is a programming language that is easy to understand and write,making it a popular choice among development and programming.it is compatible with various programming paradigms."
      ],
      "metadata": {
        "id": "HBKc_Vvk25_g"
      }
    },
    {
      "cell_type": "markdown",
      "source": [
        "2.what is an interpreter in phyton ?\n",
        "\n",
        "an interpreter is a program that directly executes phyton code without prior compilation into machine code. it translates the highlevel phyton code line by line into lowerlevel instructions that the computer can understand and execute."
      ],
      "metadata": {
        "id": "Ya0ba_pX4l--"
      }
    },
    {
      "cell_type": "markdown",
      "source": [
        "3.what are pre-defined keywords in phyton ?\n",
        "\n",
        "keywords are reserved words in phyton that have special meanings and cannot be used as identifiers (variable name, function names, etc.)keywords are case sensitive and cannot be redefined or overridden within a phyton program.example of keywords include if,eles,while,for,def, class ,try,True,False,etc."
      ],
      "metadata": {
        "id": "XxktoDK06iUW"
      }
    },
    {
      "cell_type": "markdown",
      "source": [
        "4. can keywords be used as variable names?\n",
        "\n",
        "no, phyton keywords cannot be used as variable names.keywords are reserved words in phyton that have special meanings and are used to define the syntax and structure of the language."
      ],
      "metadata": {
        "id": "xvQdLtU6953J"
      }
    },
    {
      "cell_type": "markdown",
      "source": [
        "5. What is mutability in Python?\n",
        "\n",
        "in phyton mutability refers an object is considered mutable if its state or value can be modified after it is created.this means that you can alter its internal data or attributes without creating a new object."
      ],
      "metadata": {
        "id": "AE46Tztc9qw1"
      }
    },
    {
      "cell_type": "markdown",
      "source": [
        "6. Why are lists mutable, but tuples are immutable?\n",
        "\n",
        "tuple and list data structure are very similar, but one big difference between the data type is that lists are mutable,but tuples are immutable .the reason for the tuple's immutable is that once the elements are added to the tuple and the tuple has been created;it remains unchange.list can be changed but tuple cannot be changed."
      ],
      "metadata": {
        "id": "ZnreUbyyCVHF"
      }
    },
    {
      "cell_type": "markdown",
      "source": [
        "7. What is the difference between “==” and “is” operators in Pyton?\n",
        "\n",
        "The \"==\" operator is used to check for equality of values.it determines if the value of two objects being compared are the same.\n",
        "\n",
        "The \"is\" operator is used to check for identity.it determines whether two variable point to the same object in memory."
      ],
      "metadata": {
        "id": "lTDtbakkIgWV"
      }
    },
    {
      "cell_type": "markdown",
      "source": [
        "8.What are logical operators in Python?\n",
        "\n",
        "The logical operators in phyton(and,or,not)."
      ],
      "metadata": {
        "id": "RYZH9pp_OUe8"
      }
    },
    {
      "cell_type": "markdown",
      "source": [
        "9.What is type casting in Python?\n",
        "\n",
        "Type casting,also referred to as type conversion, is the process of changing one data type to another in phyton.phyton provides built-in functions for type casting,such as int(),float(),str(),dict(),list(),tuple(),etc."
      ],
      "metadata": {
        "id": "xdP-pM9lO_Xw"
      }
    },
    {
      "cell_type": "markdown",
      "source": [
        "10.What is the difference between implicit and explicit type casting?\n",
        "\n"
      ],
      "metadata": {
        "id": "qSy7Nik8Qnju"
      }
    },
    {
      "cell_type": "markdown",
      "source": [
        "11. What is the purpose of conditional statements in phyton?\n",
        "\n",
        "Conditionals in phyton are used to execute code based on the evaluation of onr or more conditions.conditional can be nested to handle multiple conditions and cantrol different branches of execution based on the outcome of logical."
      ],
      "metadata": {
        "id": "ENJnzFV-SiPj"
      }
    },
    {
      "cell_type": "markdown",
      "source": [
        "12. How does the elif statement work?\n",
        "\n",
        "The \"elif\" keyword in phyton,stands for else if,allow for the evaluation of multiple conditions in a sequential manner.it is always used in conjuction with an \"if\" statement and can be followed by an optional \"else\" statement."
      ],
      "metadata": {
        "id": "eoWzNc7uT5hy"
      }
    },
    {
      "cell_type": "markdown",
      "source": [
        "13.What is the difference between for and while loops?\n",
        "\n",
        "\"for\" loops are used for iterating over a sequence of elements. \"while\" loops are used for executing code until a specified condition became false."
      ],
      "metadata": {
        "id": "OfM4w2UtXVRq"
      }
    },
    {
      "cell_type": "markdown",
      "source": [
        "14.Describe a scenario where a while loop is more suitable than a for loop?\n",
        "\n",
        "where the number of iterations is not known or predetermined before the loop begins.this contrasts with a for loop,which is typically used when iterating over a sequence of known length or a predefined range.in this scenario while loop is more suitable than for loop."
      ],
      "metadata": {
        "id": "OKrG9zLEXg1U"
      }
    },
    {
      "cell_type": "markdown",
      "source": [],
      "metadata": {
        "id": "my0Zk0C44KU6"
      }
    },
    {
      "cell_type": "markdown",
      "source": [],
      "metadata": {
        "id": "D6dE2nIURgej"
      }
    },
    {
      "cell_type": "markdown",
      "source": [],
      "metadata": {
        "id": "rJyJxNy_2NOG"
      }
    },
    {
      "cell_type": "markdown",
      "source": [],
      "metadata": {
        "id": "ubzQRXbPzywT"
      }
    },
    {
      "cell_type": "markdown",
      "source": [
        "# practical"
      ],
      "metadata": {
        "id": "hl_n9GqEEpx5"
      }
    },
    {
      "cell_type": "code",
      "source": [
        "#write a to print hello world!\n",
        "print(\"hello world!\")\n"
      ],
      "metadata": {
        "colab": {
          "base_uri": "https://localhost:8080/"
        },
        "id": "i3OkHdcCEG05",
        "outputId": "41809dcf-f657-4270-ad5c-0f2f28b7cd9d"
      },
      "execution_count": null,
      "outputs": [
        {
          "output_type": "stream",
          "name": "stdout",
          "text": [
            "hello world!\n"
          ]
        }
      ]
    },
    {
      "cell_type": "code",
      "source": [
        "#write a phyton p0rogram to display your name and age.\n",
        "name = (\"Nazmeen ladaf\")\n",
        "age = (\"19\")\n",
        "print(name)\n",
        "print(age)"
      ],
      "metadata": {
        "colab": {
          "base_uri": "https://localhost:8080/"
        },
        "id": "lefrSxf0GIq2",
        "outputId": "73f60a6c-51a9-44de-a9b8-01590e5e2d86"
      },
      "execution_count": null,
      "outputs": [
        {
          "output_type": "stream",
          "name": "stdout",
          "text": [
            "Nazmeen ladaf\n",
            "19\n"
          ]
        }
      ]
    },
    {
      "cell_type": "code",
      "source": [
        "# write a code to print all the pre-defined keywords in phyton using the keyword library\n",
        "import keyword\n",
        "print(keyword.kwlist)\n"
      ],
      "metadata": {
        "id": "wSma0ybFHQjA",
        "colab": {
          "base_uri": "https://localhost:8080/"
        },
        "outputId": "db289510-9ecb-4fed-c701-66020c9c6ed8"
      },
      "execution_count": null,
      "outputs": [
        {
          "output_type": "stream",
          "name": "stdout",
          "text": [
            "['False', 'None', 'True', 'and', 'as', 'assert', 'async', 'await', 'break', 'class', 'continue', 'def', 'del', 'elif', 'else', 'except', 'finally', 'for', 'from', 'global', 'if', 'import', 'in', 'is', 'lambda', 'nonlocal', 'not', 'or', 'pass', 'raise', 'return', 'try', 'while', 'with', 'yield']\n"
          ]
        }
      ]
    },
    {
      "cell_type": "code",
      "source": [
        "# write a program that check if a given word in phyton keyword\n",
        "\n"
      ],
      "metadata": {
        "id": "Ge6qMCrgK4j1",
        "colab": {
          "base_uri": "https://localhost:8080/",
          "height": 220
        },
        "outputId": "ce8ddcbd-6ded-49f8-e96a-b690e8363a1f"
      },
      "execution_count": 2,
      "outputs": [
        {
          "output_type": "error",
          "ename": "NameError",
          "evalue": "name 'keyword' is not defined",
          "traceback": [
            "\u001b[0;31m---------------------------------------------------------------------------\u001b[0m",
            "\u001b[0;31mNameError\u001b[0m                                 Traceback (most recent call last)",
            "\u001b[0;32m/tmp/ipython-input-2119637319.py\u001b[0m in \u001b[0;36m<cell line: 0>\u001b[0;34m()\u001b[0m\n\u001b[1;32m      3\u001b[0m \u001b[0mword2\u001b[0m \u001b[0;34m=\u001b[0m \u001b[0;34m\"while\"\u001b[0m\u001b[0;34m\u001b[0m\u001b[0;34m\u001b[0m\u001b[0m\n\u001b[1;32m      4\u001b[0m \u001b[0mword3\u001b[0m \u001b[0;34m=\u001b[0m \u001b[0;34m\"if\"\u001b[0m\u001b[0;34m\u001b[0m\u001b[0;34m\u001b[0m\u001b[0m\n\u001b[0;32m----> 5\u001b[0;31m \u001b[0mprint\u001b[0m\u001b[0;34m(\u001b[0m\u001b[0;34mf\"'{word1}' is a keyword: \"\u001b[0m\u001b[0;34m,\u001b[0m\u001b[0mkeyword\u001b[0m\u001b[0;34m.\u001b[0m\u001b[0miskeyword\u001b[0m\u001b[0;34m(\u001b[0m\u001b[0mword1\u001b[0m\u001b[0;34m)\u001b[0m\u001b[0;34m)\u001b[0m\u001b[0;34m\u001b[0m\u001b[0;34m\u001b[0m\u001b[0m\n\u001b[0m\u001b[1;32m      6\u001b[0m \u001b[0mprint\u001b[0m\u001b[0;34m(\u001b[0m\u001b[0;34mf\"'{word2}' is a keyword: \"\u001b[0m\u001b[0;34m,\u001b[0m\u001b[0mkeyword\u001b[0m\u001b[0;34m.\u001b[0m\u001b[0miskeyword\u001b[0m\u001b[0;34m(\u001b[0m\u001b[0mword2\u001b[0m\u001b[0;34m)\u001b[0m\u001b[0;34m)\u001b[0m\u001b[0;34m\u001b[0m\u001b[0;34m\u001b[0m\u001b[0m\n\u001b[1;32m      7\u001b[0m \u001b[0mprint\u001b[0m\u001b[0;34m(\u001b[0m\u001b[0;34mf\"'{word3}' is a keyword: \"\u001b[0m\u001b[0;34m,\u001b[0m\u001b[0mkeyword\u001b[0m\u001b[0;34m.\u001b[0m\u001b[0miskeyword\u001b[0m\u001b[0;34m(\u001b[0m\u001b[0mword3\u001b[0m\u001b[0;34m)\u001b[0m\u001b[0;34m)\u001b[0m\u001b[0;34m\u001b[0m\u001b[0;34m\u001b[0m\u001b[0m\n",
            "\u001b[0;31mNameError\u001b[0m: name 'keyword' is not defined"
          ]
        }
      ]
    },
    {
      "cell_type": "code",
      "source": [
        "# creat a list and tuple in phyton, and demostrate how attempting to change an element works differently for each.\n"
      ],
      "metadata": {
        "id": "tN8BoyblK6uS"
      },
      "execution_count": null,
      "outputs": []
    },
    {
      "cell_type": "code",
      "source": [
        "# write a function to demostrate the behaviour of mutable and immutable argument\n",
        "a = [10,20,30,40,50]\n",
        "print(a)\n",
        "print(id(a))\n",
        "a[0]=200\n",
        "print(a)\n",
        "print(id(a))# mutable\n",
        "\n",
        "x = [50,60,70,80]\n",
        "z = x\n",
        "x[0]=400\n",
        "print(x)\n",
        "print(z)\n",
        "z[0]=800\n",
        "print(x)\n",
        "print(z)# immutabl\n"
      ],
      "metadata": {
        "id": "vPq-E2FyK6WN",
        "colab": {
          "base_uri": "https://localhost:8080/"
        },
        "outputId": "a02aa83e-6c7f-4b9d-8d07-7481b481de4d"
      },
      "execution_count": 4,
      "outputs": [
        {
          "output_type": "stream",
          "name": "stdout",
          "text": [
            "[10, 20, 30, 40, 50]\n",
            "132305786580096\n",
            "[200, 20, 30, 40, 50]\n",
            "132305786580096\n",
            "[400, 60, 70, 80]\n",
            "[400, 60, 70, 80]\n",
            "[800, 60, 70, 80]\n",
            "[800, 60, 70, 80]\n"
          ]
        }
      ]
    },
    {
      "cell_type": "code",
      "source": [
        "# Write a program that performs basic arithmetic operations on two user-input numbers.\n",
        "a = 12\n",
        "b = 2\n",
        "c = (a+b)\n",
        "d = (a-b)\n",
        "e = (a*b)\n",
        "f = (a%b)\n",
        "g = (a/b)\n",
        "i = (a//b)\n",
        "j = (a**b)\n",
        "print(c)\n",
        "print(d)\n",
        "print(e)\n",
        "print(f)\n",
        "print(g)\n",
        "print(i)\n",
        "print(j)"
      ],
      "metadata": {
        "colab": {
          "base_uri": "https://localhost:8080/"
        },
        "id": "Eltxk4IrK251",
        "outputId": "ec84140f-687f-410f-8a1a-851c84788e53"
      },
      "execution_count": null,
      "outputs": [
        {
          "output_type": "stream",
          "name": "stdout",
          "text": [
            "14\n",
            "10\n",
            "24\n",
            "0\n",
            "6.0\n",
            "6\n",
            "144\n"
          ]
        }
      ]
    },
    {
      "cell_type": "code",
      "source": [
        "#write a program to demonstrate the use of logical operators\n",
        "x = 10\n",
        "print(x>5 and x<12)\n",
        "print(not(10>5))\n",
        "print(x>12 or x<5)"
      ],
      "metadata": {
        "colab": {
          "base_uri": "https://localhost:8080/"
        },
        "id": "Sq45K_idMv0Y",
        "outputId": "4b2ef159-6765-434b-a10b-c12e8dea9ae5"
      },
      "execution_count": null,
      "outputs": [
        {
          "output_type": "stream",
          "name": "stdout",
          "text": [
            "True\n",
            "False\n",
            "False\n"
          ]
        }
      ]
    },
    {
      "cell_type": "code",
      "source": [
        "#. Write a Python program to convert user input from string to integer, float, and boolean type\n",
        "#string to integer\n",
        "a = \"2\"\n",
        "print(type(a))\n",
        "print(type(int(a)))\n",
        "#float to integer\n",
        "b = 3.4\n",
        "print(type(b))\n",
        "print(type(int(b)))\n",
        "#bool to integer\n",
        "c = True\n",
        "print(type(c))\n",
        "print(type(int(c)))\n",
        "\n"
      ],
      "metadata": {
        "id": "FjOgfUiCRXtI",
        "colab": {
          "base_uri": "https://localhost:8080/"
        },
        "outputId": "1750a5b6-d44f-4fd2-c21f-6b7a7a2521f5"
      },
      "execution_count": null,
      "outputs": [
        {
          "output_type": "stream",
          "name": "stdout",
          "text": [
            "<class 'str'>\n",
            "<class 'int'>\n",
            "<class 'float'>\n",
            "<class 'int'>\n",
            "<class 'bool'>\n",
            "<class 'int'>\n"
          ]
        }
      ]
    },
    {
      "cell_type": "code",
      "source": [
        "# write code to demonstrate type casting with list element\n",
        "a = [\"1\", \"2\", \"3\", \"4\", \"5\"]\n",
        "print(type(a))\n",
        "print(type(int(a[0])))\n",
        "print(type(int(a[1])))\n",
        "print(type(int(a[2])))\n",
        "print(type(int(a[3])))\n",
        "print(type(int(a[4])))"
      ],
      "metadata": {
        "id": "ESVcIpbgudIo",
        "colab": {
          "base_uri": "https://localhost:8080/"
        },
        "outputId": "739814c5-ea79-43b3-aa50-bcdb976f2e68"
      },
      "execution_count": 6,
      "outputs": [
        {
          "output_type": "stream",
          "name": "stdout",
          "text": [
            "<class 'list'>\n",
            "<class 'int'>\n",
            "<class 'int'>\n",
            "<class 'int'>\n",
            "<class 'int'>\n",
            "<class 'int'>\n"
          ]
        }
      ]
    },
    {
      "cell_type": "code",
      "source": [
        "# write a program that checks if a number is positive, negative, or zero."
      ],
      "metadata": {
        "id": "CH8j3I8Vuqi3"
      },
      "execution_count": null,
      "outputs": []
    },
    {
      "cell_type": "code",
      "source": [
        "# write a for loop to print number from 1 to 10\n",
        "for i in range(1,11):\n",
        "  print(i)"
      ],
      "metadata": {
        "id": "S_TrtopOurMt",
        "colab": {
          "base_uri": "https://localhost:8080/"
        },
        "outputId": "4ad1013c-fdd5-4482-8b81-1bab7827fec1"
      },
      "execution_count": null,
      "outputs": [
        {
          "output_type": "stream",
          "name": "stdout",
          "text": [
            "1\n",
            "2\n",
            "3\n",
            "4\n",
            "5\n",
            "6\n",
            "7\n",
            "8\n",
            "9\n",
            "10\n"
          ]
        }
      ]
    },
    {
      "cell_type": "code",
      "source": [
        "# write a phyton program to find the sum of all even numbers between 1 to 50\n",
        "sum = 0\n",
        "for i in range(1,51):\n",
        "  if i%2==0:\n",
        "    sum=sum+i\n",
        "    print(sum)\n"
      ],
      "metadata": {
        "id": "FoHKpvUAurjG",
        "colab": {
          "base_uri": "https://localhost:8080/"
        },
        "outputId": "b33256e7-9e1c-4d2f-aa85-e0ad83f92e1f"
      },
      "execution_count": null,
      "outputs": [
        {
          "output_type": "stream",
          "name": "stdout",
          "text": [
            "2\n",
            "6\n",
            "12\n",
            "20\n",
            "30\n",
            "42\n",
            "56\n",
            "72\n",
            "90\n",
            "110\n",
            "132\n",
            "156\n",
            "182\n",
            "210\n",
            "240\n",
            "272\n",
            "306\n",
            "342\n",
            "380\n",
            "420\n",
            "462\n",
            "506\n",
            "552\n",
            "600\n",
            "650\n"
          ]
        }
      ]
    },
    {
      "cell_type": "code",
      "source": [
        "# Write a program to reverse a string using a while loop.\n",
        "x = input(\"enter your string:\")\n",
        "y = \"\"\n",
        "i = len(x)-1\n",
        "while i>=0:\n",
        "  y = y+x[i]\n",
        "  i = i-1\n",
        "print(y)"
      ],
      "metadata": {
        "id": "2KRUhfw1YZMN",
        "colab": {
          "base_uri": "https://localhost:8080/"
        },
        "outputId": "4aaab551-a28f-4764-cd8a-7cdf94ac3ce4"
      },
      "execution_count": 7,
      "outputs": [
        {
          "output_type": "stream",
          "name": "stdout",
          "text": [
            "enter your string:nazmeen\n",
            "neemzan\n"
          ]
        }
      ]
    },
    {
      "cell_type": "code",
      "source": [
        "# Write a Python program to calculate the factorial of a number provided by the user using a while loop.\n",
        "number = int(input(\"enter your number:\"))\n",
        "fact = 1\n",
        "while(number>0):\n",
        "  fact = fact*number\n",
        "  number = number-1\n",
        "print(\"factorial number is:\",fact)"
      ],
      "metadata": {
        "id": "LAF6Gc_wYgW6",
        "colab": {
          "base_uri": "https://localhost:8080/"
        },
        "outputId": "f1b64729-5b69-49ad-e0d3-b09d59c6a42f"
      },
      "execution_count": 8,
      "outputs": [
        {
          "output_type": "stream",
          "name": "stdout",
          "text": [
            "enter your number:125\n",
            "factorial number is: 188267717688892609974376770249160085759540364871492425887598231508353156331613598866882932889495923133646405445930057740630161919341380597818883457558547055524326375565007131770880000000000000000000000000000000\n"
          ]
        }
      ]
    }
  ]
}